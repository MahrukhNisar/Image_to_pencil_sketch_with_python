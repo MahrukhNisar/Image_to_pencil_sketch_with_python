{
 "cells": [
  {
   "cell_type": "markdown",
   "id": "2ca8fb37",
   "metadata": {},
   "source": [
    "# Image to Pencil Sketch with Python\n"
   ]
  },
  {
   "cell_type": "markdown",
   "id": "b7591f2f",
   "metadata": {},
   "source": [
    " ## Import Module"
   ]
  },
  {
   "cell_type": "code",
   "execution_count": 11,
   "id": "1f3bd313",
   "metadata": {},
   "outputs": [
    {
     "name": "stdout",
     "output_type": "stream",
     "text": [
      "Requirement already satisfied: opencv-python in d:\\anacconda\\lib\\site-packages (4.7.0.72)\n",
      "Requirement already satisfied: numpy>=1.17.0 in d:\\anacconda\\lib\\site-packages (from opencv-python) (1.22.4)\n",
      "Note: you may need to restart the kernel to use updated packages.\n"
     ]
    }
   ],
   "source": [
    "pip install opencv-python"
   ]
  },
  {
   "cell_type": "code",
   "execution_count": 21,
   "id": "8e876281",
   "metadata": {},
   "outputs": [],
   "source": [
    "import cv2\n",
    "import numpy as np"
   ]
  },
  {
   "cell_type": "code",
   "execution_count": null,
   "id": "1e3afeb1",
   "metadata": {
    "scrolled": true
   },
   "outputs": [],
   "source": [
    "jc = cv2.imread(\"image.jpg\")\n",
    "# jc = cv2.imread(\"image/jc_orig.jpg\")\n",
    "# jc = cv2.imread(\"C:\\Users\\MAHRUKH NISAR\")\n",
    "\n",
    "scale_percent = 0.60\n",
    "\n",
    "width = int(jc.shape[1] * scale_percent)\n",
    "height = int(jc.shape[0] * scale_percent)\n",
    "\n",
    "dim = (width, height)\n",
    "resized = cv2.resize(jc, dim, interpolation=cv2.INTER_AREA)\n",
    "\n",
    "kernel_sharpening = np.array([[-1, -1, -1],\n",
    "                              [-1, 9, -1],\n",
    "                              [-1, -1, -1]])\n",
    "sharpened = cv2.filter2D(resized, -1, kernel_sharpening)\n",
    "\n",
    "gray = cv2.cvtColor(sharpened, cv2.COLOR_BGR2GRAY)\n",
    "inv = 255 - gray\n",
    "gauss = cv2.GaussianBlur(inv, ksize=(15, 15), sigmaX=0, sigmaY=0)\n",
    "\n",
    "\n",
    "def dodgeV2(image, mask):\n",
    "    return cv2.divide(image, 255 - mask, scale=256)\n",
    "\n",
    "\n",
    "pencil_jc = dodgeV2(gray, gauss)\n",
    "\n",
    "cv2.imshow('resized', resized)\n",
    "cv2.imshow('sharp', sharpened)\n",
    "cv2.imshow('gray', gray)\n",
    "cv2.imshow('inv', inv)\n",
    "cv2.imshow('gauss', gauss)\n",
    "cv2.imshow('pencil sketch', pencil_jc)\n",
    "# cv2.imwrite(\"D:\\Python36\\siva_written.jpg\", pencil_jc)\n",
    "cv2.waitKey(0)\n",
    "cv2.destroyAllWindows()\n"
   ]
  }
 ],
 "metadata": {
  "kernelspec": {
   "display_name": "Python 3 (ipykernel)",
   "language": "python",
   "name": "python3"
  },
  "language_info": {
   "codemirror_mode": {
    "name": "ipython",
    "version": 3
   },
   "file_extension": ".py",
   "mimetype": "text/x-python",
   "name": "python",
   "nbconvert_exporter": "python",
   "pygments_lexer": "ipython3",
   "version": "3.9.12"
  }
 },
 "nbformat": 4,
 "nbformat_minor": 5
}
